{
 "cells": [
  {
   "cell_type": "markdown",
   "metadata": {},
   "source": [
    "# SCRIPT for DATA COLLECTION from GOOGLE"
   ]
  },
  {
   "cell_type": "code",
   "execution_count": 5,
   "metadata": {},
   "outputs": [],
   "source": [
    "from simple_image_download import simple_image_download as simp\n",
    "import os\n",
    "import shutil"
   ]
  },
  {
   "cell_type": "code",
   "execution_count": 6,
   "metadata": {},
   "outputs": [],
   "source": [
    "\n",
    "import ssl\n",
    "ssl._create_default_https_context = ssl._create_unverified_context"
   ]
  },
  {
   "cell_type": "code",
   "execution_count": 7,
   "metadata": {},
   "outputs": [],
   "source": [
    "def download_and_organize_images(query, num_images, target_dir):\n",
    "    # initialization\n",
    "    response = simp.simple_image_download\n",
    "    \n",
    "    # download\n",
    "    print(f\"Downloading images for: {query}\")\n",
    "    response().download(query, num_images)\n",
    "    \n",
    "    # Move images to target directory\n",
    "    if not os.path.exists(target_dir):\n",
    "        os.makedirs(target_dir)\n",
    "    \n",
    "    source_dir = f\"./simple_images/{query}/\"\n",
    "    dest_dir = os.path.join(target_dir, query)\n",
    "    \n",
    "    if not os.path.exists(dest_dir):\n",
    "        os.makedirs(dest_dir)\n",
    "    \n",
    "    for file_name in os.listdir(source_dir):\n",
    "        source_file = os.path.join(source_dir, file_name)\n",
    "        dest_file = os.path.join(dest_dir, file_name)\n",
    "        shutil.move(source_file, dest_file)\n",
    "    \n",
    "    os.rmdir(source_dir)\n",
    "    \n",
    "    print(f\"{num_images} images for '{query}' have been organized in {target_dir}/{query}\")"
   ]
  },
  {
   "cell_type": "code",
   "execution_count": 9,
   "metadata": {},
   "outputs": [
    {
     "name": "stdout",
     "output_type": "stream",
     "text": [
      "Downloading images for: kitchen\n",
      "3 images for 'kitchen' have been organized in /Users/nikhil/Desktop/InteriorAI/datasetCollection/images/kitchen\n"
     ]
    }
   ],
   "source": [
    "query = 'kitchen'\n",
    "num = 3\n",
    "target = '/Users/nikhil/Desktop/InteriorAI/datasetCollection/images'\n",
    "\n",
    "download_and_organize_images(query, num, target)"
   ]
  }
 ],
 "metadata": {
  "kernelspec": {
   "display_name": "Python 3",
   "language": "python",
   "name": "python3"
  },
  "language_info": {
   "codemirror_mode": {
    "name": "ipython",
    "version": 3
   },
   "file_extension": ".py",
   "mimetype": "text/x-python",
   "name": "python",
   "nbconvert_exporter": "python",
   "pygments_lexer": "ipython3",
   "version": "3.7.7"
  }
 },
 "nbformat": 4,
 "nbformat_minor": 4
}
